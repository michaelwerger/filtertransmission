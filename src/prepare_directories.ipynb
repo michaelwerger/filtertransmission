{
 "cells": [
  {
   "cell_type": "markdown",
   "id": "f49afcf2",
   "metadata": {},
   "source": [
    "ASI ZWO Software stores data files in directories like YYYY-MM-DD_hh_mm_ssZ\n",
    "each filename consists of the following parts, separated by \"_\"\n",
    "- type\n",
    "- object\n",
    "- exposure time\n",
    "- binning\n",
    "- cmos temperatur\n",
    "- gain\n",
    "- date (yyyy-mm-dd)\n",
    "- consecutive number\n",
    "to arrange datafiles according objects (the second part in the file name, usually) \n",
    "> cd src\n",
    "> python prepare_directories.py\n"
   ]
  },
  {
   "cell_type": "code",
   "execution_count": 1,
   "id": "cd0f6964",
   "metadata": {},
   "outputs": [],
   "source": [
    "from pathlib import Path\n",
    "import shutil"
   ]
  },
  {
   "cell_type": "code",
   "execution_count": 2,
   "id": "61c3bbbb",
   "metadata": {},
   "outputs": [],
   "source": [
    "current_path = Path.cwd()\n",
    "\n",
    "data_path = current_path / '..' / 'data'  # I love operator overloading\n",
    "rs = list(data_path.glob('**/*.fit'))\n",
    "for r in rs:\n",
    "    target_name = r.parts[-1].split('_')[1]\n",
    "    target_path = data_path / target_name\n",
    "    target_path.mkdir(exist_ok=True)\n",
    "    source_file = r.__str__()\n",
    "    dest_file = data_path / target_name / r.parts[-1]\n",
    "    shutil.copyfile(source_file, dest_file)"
   ]
  },
  {
   "cell_type": "code",
   "execution_count": null,
   "id": "75900eff",
   "metadata": {},
   "outputs": [],
   "source": []
  }
 ],
 "metadata": {
  "kernelspec": {
   "display_name": "Python 3",
   "language": "python",
   "name": "python3"
  },
  "language_info": {
   "codemirror_mode": {
    "name": "ipython",
    "version": 3
   },
   "file_extension": ".py",
   "mimetype": "text/x-python",
   "name": "python",
   "nbconvert_exporter": "python",
   "pygments_lexer": "ipython3",
   "version": "3.11.13"
  }
 },
 "nbformat": 4,
 "nbformat_minor": 5
}
