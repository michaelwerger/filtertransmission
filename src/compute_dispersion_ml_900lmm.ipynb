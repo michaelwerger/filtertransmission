{
 "cells": [
  {
   "cell_type": "code",
   "execution_count": 1,
   "metadata": {},
   "outputs": [],
   "source": [
    "import tensorflow as tf\n",
    "from tensorflow.keras.models import load_model\n",
    "import os\n",
    "import numpy as np\n",
    "import matplotlib.pyplot as plt\n",
    "from prettytable import PrettyTable\n",
    "\n",
    "import cv2\n",
    "from pathlib import Path\n",
    "\n"
   ]
  },
  {
   "cell_type": "code",
   "execution_count": 2,
   "metadata": {},
   "outputs": [],
   "source": [
    "current_path = Path('.')\n",
    "TRAIN_DATA_PATH = current_path / '..' / '..'/ 'keras_based_line_identification' / 'data' / 'train'\n",
    "TEST_DATA_PATH  = current_path / '..' / 'test' / 'images'\n",
    "MODEL_PATH      = current_path / '..' / 'data' / 'model' / 'model.h5'\n",
    "\n",
    "IMAGE_SIZE = 32; \n"
   ]
  },
  {
   "cell_type": "code",
   "execution_count": 3,
   "metadata": {},
   "outputs": [],
   "source": [
    "# Lädt ein Bild\n",
    "def load_image(path,image_size=IMAGE_SIZE):\n",
    "    img =cv2.imread(path)\n",
    "    img=cv2.cvtColor(img, cv2.COLOR_BGR2GRAY)\n",
    "    tmp = img.reshape([IMAGE_SIZE, IMAGE_SIZE,1])\n",
    "\n",
    "\n",
    "    return np.array(tmp)/255"
   ]
  },
  {
   "cell_type": "code",
   "execution_count": 4,
   "metadata": {},
   "outputs": [],
   "source": [
    "def compute_dispersion_ml(model, labels_decoded, path, image_size=IMAGE_SIZE):\n",
    "    correct_matches = 0\n",
    "    result_table = PrettyTable()\n",
    "    result_table.field_names = [\"Datei \", \"Position\", \"Wavelength\"]\n",
    "\n",
    "    raw_positions = []\n",
    "    raw_wavelengths = []\n",
    "    for filename in sorted(os.listdir(path)):\n",
    "\n",
    "        if(filename.startswith('.') == False):\n",
    "\n",
    "            current_wavelength = filename[0:4]\n",
    "            print (current_wavelength)\n",
    "            image_path = os.path.join(path,filename)\n",
    "                \n",
    "            test_image = load_image(image_path)\n",
    "            predictions = model.predict(test_image.reshape((1,IMAGE_SIZE,IMAGE_SIZE,1)))\n",
    "                \n",
    "            index_max_predictions = np.argmax(predictions)\n",
    "            print('index_max_predictions:',index_max_predictions, current_wavelength, labels_decoded[index_max_predictions])\n",
    "            decode_wavelength = labels_decoded[index_max_predictions]\n",
    "\n",
    "            result_table.add_row([image_path, current_wavelength, decode_wavelength])\n",
    "            raw_positions.append(float(current_wavelength))\n",
    "            raw_wavelengths.append(float(decode_wavelength))\n",
    "\n",
    "\n",
    "    print(result_table)\n",
    "\n",
    "    l = len(raw_positions)\n",
    "\n",
    "    positions = []\n",
    "    wavelengths = []\n",
    "\n",
    "    for l in range(0,l):\n",
    "        try:\n",
    "            if raw_wavelengths[l] > raw_wavelengths[l-1] and raw_wavelengths[l] < raw_wavelengths[l+1]:\n",
    "                positions.append(raw_positions[l])\n",
    "                wavelengths.append((raw_wavelengths[l]))\n",
    "        except IndexError:\n",
    "            pass\n",
    "\n",
    "    z = [5.16220206e-01,3.93665555e+03]\n",
    "    p = np.poly1d(z)\n",
    "    x = range(0,4944)\n",
    "    waves = p(x)\n",
    "    \n",
    "    plt.rcParams['figure.figsize'] = (12,8)\n",
    "    fig, axes = plt.subplots()\n",
    "    plt.xlim = [0,4944]\n",
    "    plt.ylim = [4000,7500]\n",
    "    plt.plot(x,waves, color='red')\n",
    "    plt.plot(positions, wavelengths,'+', color='k')\n",
    "    z_ml = np.polyfit(positions, wavelengths,1)\n",
    "    p_ml = np.poly1d(z_ml)\n",
    "    waves_ml = p_ml(x)\n",
    "    plt.plot(x, waves_ml, color='cyan')        \n",
    "    plt.ylabel('Wavelength (A)')\n",
    "    plt.xlabel('Pixel')\n",
    "    plt.show()\n",
    "    return z_ml"
   ]
  },
  {
   "cell_type": "code",
   "execution_count": 5,
   "metadata": {},
   "outputs": [
    {
     "name": "stderr",
     "output_type": "stream",
     "text": [
      "2025-06-15 16:59:24.497054: I metal_plugin/src/device/metal_device.cc:1154] Metal device set to: Apple M1 Pro\n",
      "2025-06-15 16:59:24.497085: I metal_plugin/src/device/metal_device.cc:296] systemMemory: 16.00 GB\n",
      "2025-06-15 16:59:24.497089: I metal_plugin/src/device/metal_device.cc:313] maxCacheSize: 5.33 GB\n",
      "2025-06-15 16:59:24.497108: I tensorflow/core/common_runtime/pluggable_device/pluggable_device_factory.cc:305] Could not identify NUMA node of platform GPU ID 0, defaulting to 0. Your kernel may not have been built with NUMA support.\n",
      "2025-06-15 16:59:24.497119: I tensorflow/core/common_runtime/pluggable_device/pluggable_device_factory.cc:271] Created TensorFlow device (/job:localhost/replica:0/task:0/device:GPU:0 with 0 MB memory) -> physical PluggableDevice (device: 0, name: METAL, pci bus id: <undefined>)\n",
      "WARNING:absl:Compiled the loaded model, but the compiled metrics have yet to be built. `model.compile_metrics` will be empty until you train or evaluate the model.\n"
     ]
    },
    {
     "name": "stdout",
     "output_type": "stream",
     "text": [
      "3710\n",
      "\u001b[1m1/1\u001b[0m \u001b[32m━━━━━━━━━━━━━━━━━━━━\u001b[0m\u001b[37m\u001b[0m \u001b[1m0s\u001b[0m 70ms/step\n",
      "index_max_predictions: 0 3710 5852.48\n",
      "3768\n",
      "\u001b[1m1/1\u001b[0m \u001b[32m━━━━━━━━━━━━━━━━━━━━\u001b[0m\u001b[37m\u001b[0m \u001b[1m0s\u001b[0m 19ms/step\n",
      "index_max_predictions: 1 3768 5881.89\n",
      "3890\n",
      "\u001b[1m1/1\u001b[0m \u001b[32m━━━━━━━━━━━━━━━━━━━━\u001b[0m\u001b[37m\u001b[0m \u001b[1m0s\u001b[0m 19ms/step\n",
      "index_max_predictions: 2 3890 5944.83\n",
      "3950\n",
      "\u001b[1m1/1\u001b[0m \u001b[32m━━━━━━━━━━━━━━━━━━━━\u001b[0m\u001b[37m\u001b[0m \u001b[1m0s\u001b[0m 11ms/step"
     ]
    },
    {
     "name": "stderr",
     "output_type": "stream",
     "text": [
      "2025-06-15 16:59:24.780440: I tensorflow/core/grappler/optimizers/custom_graph_optimizer_registry.cc:117] Plugin optimizer for device_type GPU is enabled.\n"
     ]
    },
    {
     "name": "stdout",
     "output_type": "stream",
     "text": [
      "\u001b[1m1/1\u001b[0m \u001b[32m━━━━━━━━━━━━━━━━━━━━\u001b[0m\u001b[37m\u001b[0m \u001b[1m0s\u001b[0m 20ms/step\n",
      "index_max_predictions: 3 3950 5975.53\n",
      "4056\n",
      "\u001b[1m1/1\u001b[0m \u001b[32m━━━━━━━━━━━━━━━━━━━━\u001b[0m\u001b[37m\u001b[0m \u001b[1m0s\u001b[0m 19ms/step\n",
      "index_max_predictions: 4 4056 6029.99\n",
      "4142\n",
      "\u001b[1m1/1\u001b[0m \u001b[32m━━━━━━━━━━━━━━━━━━━━\u001b[0m\u001b[37m\u001b[0m \u001b[1m0s\u001b[0m 19ms/step\n",
      "index_max_predictions: 5 4142 6074.33\n",
      "4184\n",
      "\u001b[1m1/1\u001b[0m \u001b[32m━━━━━━━━━━━━━━━━━━━━\u001b[0m\u001b[37m\u001b[0m \u001b[1m0s\u001b[0m 19ms/step\n",
      "index_max_predictions: 6 4184 6096.16\n",
      "4274\n",
      "\u001b[1m1/1\u001b[0m \u001b[32m━━━━━━━━━━━━━━━━━━━━\u001b[0m\u001b[37m\u001b[0m \u001b[1m0s\u001b[0m 18ms/step\n",
      "index_max_predictions: 8 4274 6143.06\n",
      "4314\n",
      "\u001b[1m1/1\u001b[0m \u001b[32m━━━━━━━━━━━━━━━━━━━━\u001b[0m\u001b[37m\u001b[0m \u001b[1m0s\u001b[0m 18ms/step\n",
      "index_max_predictions: 9 4314 6163.59\n",
      "4418\n",
      "\u001b[1m1/1\u001b[0m \u001b[32m━━━━━━━━━━━━━━━━━━━━\u001b[0m\u001b[37m\u001b[0m \u001b[1m0s\u001b[0m 18ms/step\n",
      "index_max_predictions: 10 4418 6217.28\n",
      "4514\n",
      "\u001b[1m1/1\u001b[0m \u001b[32m━━━━━━━━━━━━━━━━━━━━\u001b[0m\u001b[37m\u001b[0m \u001b[1m0s\u001b[0m 18ms/step\n",
      "index_max_predictions: 11 4514 6266.49\n",
      "4588\n",
      "\u001b[1m1/1\u001b[0m \u001b[32m━━━━━━━━━━━━━━━━━━━━\u001b[0m\u001b[37m\u001b[0m \u001b[1m0s\u001b[0m 18ms/step\n",
      "index_max_predictions: 12 4588 6304.78\n",
      "4644\n",
      "\u001b[1m1/1\u001b[0m \u001b[32m━━━━━━━━━━━━━━━━━━━━\u001b[0m\u001b[37m\u001b[0m \u001b[1m0s\u001b[0m 18ms/step\n",
      "index_max_predictions: 8 4644 6143.06\n",
      "+-------------------------+----------+------------+\n",
      "|          Datei          | Position | Wavelength |\n",
      "+-------------------------+----------+------------+\n",
      "| ../test/images/3710.BMP |   3710   |  5852.48   |\n",
      "| ../test/images/3768.BMP |   3768   |  5881.89   |\n",
      "| ../test/images/3890.BMP |   3890   |  5944.83   |\n",
      "| ../test/images/3950.BMP |   3950   |  5975.53   |\n",
      "| ../test/images/4056.BMP |   4056   |  6029.99   |\n",
      "| ../test/images/4142.BMP |   4142   |  6074.33   |\n",
      "| ../test/images/4184.BMP |   4184   |  6096.16   |\n",
      "| ../test/images/4274.BMP |   4274   |  6143.06   |\n",
      "| ../test/images/4314.BMP |   4314   |  6163.59   |\n",
      "| ../test/images/4418.BMP |   4418   |  6217.28   |\n",
      "| ../test/images/4514.BMP |   4514   |  6266.49   |\n",
      "| ../test/images/4588.BMP |   4588   |  6304.78   |\n",
      "| ../test/images/4644.BMP |   4644   |  6143.06   |\n",
      "+-------------------------+----------+------------+\n"
     ]
    },
    {
     "data": {
      "image/png": "[encoded data removed]",
      "text/plain": [
       "<Figure size 1200x800 with 1 Axes>"
      ]
     },
     "metadata": {},
     "output_type": "display_data"
    },
    {
     "name": "stdout",
     "output_type": "stream",
     "text": [
      "[5.15954560e-01 3.93758762e+03]\n"
     ]
    }
   ],
   "source": [
    "labels_decoded = []\n",
    "for directory in sorted(os.listdir(str(TRAIN_DATA_PATH))):\n",
    "    if(directory.startswith('.') == False):\n",
    "        labels_decoded.append(directory)\n",
    "\n",
    "model = load_model(str(MODEL_PATH))\n",
    "z_ml = compute_dispersion_ml(model, labels_decoded, str(TEST_DATA_PATH))\n",
    "print (z_ml)"
   ]
  },
  {
   "cell_type": "code",
   "execution_count": null,
   "metadata": {},
   "outputs": [],
   "source": []
  },
  {
   "cell_type": "code",
   "execution_count": null,
   "metadata": {},
   "outputs": [],
   "source": []
  }
 ],
 "metadata": {
  "kernelspec": {
   "display_name": "Python 3",
   "language": "python",
   "name": "python3"
  },
  "language_info": {
   "codemirror_mode": {
    "name": "ipython",
    "version": 3
   },
   "file_extension": ".py",
   "mimetype": "text/x-python",
   "name": "python",
   "nbconvert_exporter": "python",
   "pygments_lexer": "ipython3",
   "version": "3.11.11"
  },
  "orig_nbformat": 4
 },
 "nbformat": 4,
 "nbformat_minor": 2
}
